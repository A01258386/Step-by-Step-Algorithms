{
 "cells": [
  {
   "cell_type": "code",
   "execution_count": null,
   "metadata": {},
   "outputs": [],
   "source": [
    "#[7, 5, 1, 8, 3, 6, 0, 9, 4, 2] --> Binary-Search-Tree \n",
    "#root = 7\n",
    "#left smaller than root = 7\n",
    "#right larger than root = 7\n",
    "#5 and 8 childs of 7\n",
    "#4 and 6 childs of 5\n",
    "#2 and 3 childs of 4\n",
    "#1 and 0 childs of 2\n",
    "#9 is child of 8\n",
    "#height of tree = 4\n",
    "#inserting =10\n",
    "#10 is larger than 7, so insert to right\n",
    "#there is 8, 10 is larger than 8, so insert to right\n",
    "#there is 9, 10 is larger than 9, so insert to right\n",
    "#placed\n",
    "\n",
    "\n"
   ]
  }
 ],
 "metadata": {
  "language_info": {
   "name": "python"
  },
  "orig_nbformat": 4
 },
 "nbformat": 4,
 "nbformat_minor": 2
}
