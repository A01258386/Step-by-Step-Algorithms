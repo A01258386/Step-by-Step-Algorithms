{
 "cells": [
  {
   "cell_type": "code",
   "execution_count": null,
   "metadata": {},
   "outputs": [],
   "source": [
    "#Insertion Sort Step-by-Step\n",
    "#[22,27,16,2,18,6] -> Insertion Sort\n",
    "#1. [22,27,16,2,18,6] -> [2,27,16,22,18,6] #n comparisons\n",
    "#2. [27,16,22,18,6] -> [6,16,22,18,27] #n-1 comparisons\n",
    "#3. [16,22,18,27] -> [16,18,22,27] #n-2 comparisons\n",
    "#4. [18,22,27] -> [18,22,27]   #n-3 comparisons\n",
    "#5. [22,27] -> [22,27] #n-4 comparisons\n",
    "#result : [ 2, 6, 16, 18, 22, 27]\n",
    "#total time complexity : O(n^2)= n*(n+1)/2\n",
    "#Space complexity : O(1) (in-place)"
   ]
  }
 ],
 "metadata": {
  "language_info": {
   "name": "python"
  },
  "orig_nbformat": 4
 },
 "nbformat": 4,
 "nbformat_minor": 2
}
