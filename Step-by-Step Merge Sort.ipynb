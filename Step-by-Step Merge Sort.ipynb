{
 "cells": [
  {
   "cell_type": "code",
   "execution_count": null,
   "metadata": {},
   "outputs": [],
   "source": [
    "#[16,21,11,8,12,22] -> Merge Sort\n",
    "#Step 1: find the middle index of the array and split the array into two halves\n",
    "#[16,21,11] and [8,12,22]\n",
    "#Step 2: Divide the array into two halves until array size is 1\n",
    "#[16,21] and [11], [8,12] and [22]\n",
    "#[16],[21],[11],[8],[12],[22]\n",
    "#Step 3: Merge the two halves with comparing the elements\n",
    "#[16,21] and [11], [8,12] and [22]\n",
    "#[11,16,21] and [8,12,22]\n",
    "#[8,11,12,16,21,22]\n",
    "#\n",
    "\n",
    "\n",
    "\n"
   ]
  }
 ],
 "metadata": {
  "language_info": {
   "name": "python"
  },
  "orig_nbformat": 4
 },
 "nbformat": 4,
 "nbformat_minor": 2
}
